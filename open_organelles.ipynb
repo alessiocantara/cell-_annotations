import quilt3 as q3
import os
import shutil


# 1. connect to the bucket janelia-cosem
b = q3.Bucket("s3://janelia-cosem")
# 2. list files
# b.ls("")
b.ls("jrc_macrophage-2/jrc_macrophage-2.n5/")
# download all the content of the janelia database
#b.fetch("", "./janelia-cosem")

# 3. specifically download macrophage data
b.fetch("jrc_macrophage-2/jrc_macrophage-2.n5/", "./jrc_macrophage-2.n5")
# this folder contains em data and labels (segmentations and segments annotations)

# 4. iterate over all the folders to find _seg directories that contain .json annotation files
mcrphg_dir = 'path/to/macrophage_data'
seg_str = '_seg' # it searches for all the directories containing the segmentation files
for dirpath, dirnames, filenames in os.walk(mcrphg_dir):
    for dirname in dirnames:
        if seg_str in dirname:
            json_file = os.path.join(dirpath, dirname, 'attributes.json')
            if os.path.exists(json_file):
                output_dir = os.path.join(mcrphg_dir, f"{dirname}_attributes")
                os.makedirs(output_dir, exist_ok=True)
                output_file = os.path.join(output_dir, 'attributes.json')
                shutil.copy(json_file, output_file)

