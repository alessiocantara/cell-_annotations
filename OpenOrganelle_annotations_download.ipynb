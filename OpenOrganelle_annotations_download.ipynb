{
  "metadata": {
    "language_info": {
      "codemirror_mode": {
        "name": "python",
        "version": 3
      },
      "file_extension": ".py",
      "mimetype": "text/x-python",
      "name": "python",
      "nbconvert_exporter": "python",
      "pygments_lexer": "ipython3",
      "version": "3.8"
    },
    "kernelspec": {
      "name": "python",
      "display_name": "Python (Pyodide)",
      "language": "python"
    }
  },
  "nbformat_minor": 4,
  "nbformat": 4,
  "cells": [
    {
      "cell_type": "code",
      "source": "import quilt3 as q3\nimport os\nimport shutil",
      "metadata": {},
      "execution_count": null,
      "outputs": []
    },
    {
      "cell_type": "code",
      "source": "# 1. connect to the bucket janelia-cosem\nb = q3.Bucket(\"s3://janelia-cosem\")",
      "metadata": {},
      "execution_count": null,
      "outputs": []
    },
    {
      "cell_type": "code",
      "source": "# 2. list files\n# b.ls(\"\")\nb.ls(\"jrc_macrophage-2/jrc_macrophage-2.n5/\")",
      "metadata": {},
      "execution_count": null,
      "outputs": []
    },
    {
      "cell_type": "code",
      "source": "# 3. specifically download macrophage data\nb.fetch(\"jrc_macrophage-2/jrc_macrophage-2.n5/\", \"./jrc_macrophage-2.n5\")\n# this folder contains em data and labels (segmentations and segments annotations)",
      "metadata": {},
      "execution_count": null,
      "outputs": []
    },
    {
      "cell_type": "code",
      "source": "# 4. iterate over all the folders to find _seg directories that contain .json annotation files\nmcrphg_dir = 'path/to/macrophage_data/labels'\nseg_str = '_seg' # it searches for all the directories containing the segmentation files",
      "metadata": {},
      "execution_count": null,
      "outputs": []
    },
    {
      "cell_type": "code",
      "source": "for dirpath, dirnames, filenames in os.walk(mcrphg_dir):\n    for dirname in dirnames:\n        if seg_str in dirname:\n            json_file = os.path.join(dirpath, dirname, 'attributes.json')\n            if os.path.exists(json_file):\n                output_dir = os.path.join(mcrphg_dir, f\"{dirname}_attributes\")\n                os.makedirs(output_dir, exist_ok=True)\n                output_file = os.path.join(output_dir, 'attributes.json')\n                shutil.copy(json_file, output_file)",
      "metadata": {},
      "execution_count": null,
      "outputs": []
    }
  ]
}