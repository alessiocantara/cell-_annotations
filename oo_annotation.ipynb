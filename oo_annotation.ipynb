{
 "cells": [
  {
   "cell_type": "code",
   "execution_count": 2,
   "metadata": {},
   "outputs": [],
   "source": [
    "import quilt3 as q3\n",
    "import os\n",
    "import shutil\n"
   ]
  },
  {
   "cell_type": "code",
   "execution_count": null,
   "metadata": {},
   "outputs": [],
   "source": [
    "# 1. connect to the bucket janelia-cosem\n",
    "b = q3.Bucket(\"s3://janelia-cosem\")"
   ]
  },
  {
   "cell_type": "code",
   "execution_count": null,
   "metadata": {},
   "outputs": [],
   "source": [
    "# 2. list files\n",
    "# b.ls(\"\")\n",
    "b.ls(\"jrc_macrophage-2/jrc_macrophage-2.n5/\")"
   ]
  },
  {
   "cell_type": "code",
   "execution_count": null,
   "metadata": {},
   "outputs": [],
   "source": [
    "# 3. specifically download macrophage data\n",
    "b.fetch(\"jrc_macrophage-2/jrc_macrophage-2.n5/\", \"./jrc_macrophage-2.n5\")\n",
    "# this folder contains em data and labels (segmentations and segments annotations)"
   ]
  },
  {
   "cell_type": "code",
   "execution_count": null,
   "metadata": {},
   "outputs": [],
   "source": [
    "# 4. iterate over all the folders to find _seg directories that contain .json annotation files\n",
    "mcrphg_dir = 'path/to/macrophage_data'\n",
    "seg_str = '_seg' # it searches for all the directories containing the segmentation files\n",
    "for dirpath, dirnames, filenames in os.walk(mcrphg_dir):\n",
    "    for dirname in dirnames:\n",
    "        if seg_str in dirname:\n",
    "            json_file = os.path.join(dirpath, dirname, 'attributes.json')\n",
    "            if os.path.exists(json_file):\n",
    "                output_dir = os.path.join(mcrphg_dir, f\"{dirname}_attributes\")\n",
    "                os.makedirs(output_dir, exist_ok=True)\n",
    "                output_file = os.path.join(output_dir, 'attributes.json')\n",
    "                shutil.copy(json_file, output_file)"
   ]
  }
 ],
 "metadata": {
  "kernelspec": {
   "display_name": "Python 3",
   "language": "python",
   "name": "python3"
  },
  "language_info": {
   "codemirror_mode": {
    "name": "ipython",
    "version": 3
   },
   "file_extension": ".py",
   "mimetype": "text/x-python",
   "name": "python",
   "nbconvert_exporter": "python",
   "pygments_lexer": "ipython3",
   "version": "3.10.11"
  },
  "orig_nbformat": 4
 },
 "nbformat": 4,
 "nbformat_minor": 2
}
